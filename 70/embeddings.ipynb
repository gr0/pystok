{
 "cells": [
  {
   "cell_type": "code",
   "execution_count": null,
   "id": "d4f9fa6f-b2c7-44e2-8bd0-844f9ac779ae",
   "metadata": {},
   "outputs": [],
   "source": [
    "import pysolr\n",
    "import uuid\n",
    "from typing import List, Dict\n",
    "import torch\n",
    "from transformers import AutoTokenizer, AutoModel\n",
    "import numpy as np"
   ]
  },
  {
   "cell_type": "code",
   "execution_count": null,
   "id": "442213d9-e94f-4e3d-9fa1-a114b8b57769",
   "metadata": {},
   "outputs": [],
   "source": [
    "class DocumentEmbedder:\n",
    "    def __init__(self):\n",
    "        self.model_name = \"sentence-transformers/all-MiniLM-L6-v2\"\n",
    "        self.tokenizer = AutoTokenizer.from_pretrained(self.model_name)\n",
    "        self.model = AutoModel.from_pretrained(self.model_name)\n",
    "        \n",
    "        self.device = torch.device(\"cuda\" if torch.cuda.is_available() else \"cpu\")\n",
    "        self.model.to(self.device)\n",
    "\n",
    "    def mean_pooling(self, model_output, attention_mask):\n",
    "        token_embeddings = model_output[0]\n",
    "        input_mask_expanded = attention_mask.unsqueeze(-1).expand(token_embeddings.size()).float()\n",
    "        return torch.sum(token_embeddings * input_mask_expanded, 1) / torch.clamp(input_mask_expanded.sum(1), min=1e-9)\n",
    "\n",
    "    def get_embedding(self, text: str) -> np.ndarray:\n",
    "        encoded_input = self.tokenizer(\n",
    "            text,\n",
    "            padding=True,\n",
    "            truncation=True,\n",
    "            max_length=512,\n",
    "            return_tensors='pt'\n",
    "        )\n",
    "        \n",
    "        encoded_input = {k: v.to(self.device) for k, v in encoded_input.items()}\n",
    "\n",
    "        with torch.no_grad():\n",
    "            model_output = self.model(**encoded_input)\n",
    "\n",
    "        sentence_embeddings = self.mean_pooling(model_output, encoded_input['attention_mask'])\n",
    "        sentence_embeddings = torch.nn.functional.normalize(sentence_embeddings, p=2, dim=1)\n",
    "        \n",
    "        return sentence_embeddings.cpu().numpy()"
   ]
  },
  {
   "cell_type": "code",
   "execution_count": null,
   "id": "7e54cf8e-f187-45d7-b501-e30eea676640",
   "metadata": {},
   "outputs": [],
   "source": [
    "class SolrIndexer:\n",
    "    def __init__(self, solr_url: str = 'http://localhost:8983/solr/embeddings'):\n",
    "        self.solr = pysolr.Solr(solr_url, always_commit=True)\n",
    "        self.embedder = DocumentEmbedder()\n",
    "\n",
    "    def create_document(self, name: str, tags: str, category: str) -> Dict:\n",
    "        \"\"\"Create a document with embeddings.\"\"\"\n",
    "        embedding = self.embedder.get_embedding(tags)\n",
    "        \n",
    "        doc = {\n",
    "            'id': str(uuid.uuid4()),\n",
    "            'name': name,\n",
    "            'tags': tags.split(', '),  \n",
    "            'category': category,\n",
    "            'vector': embedding.flatten().tolist()\n",
    "        }\n",
    "        return doc\n",
    "\n",
    "    def index_documents(self, documents: List[Dict]):\n",
    "        \"\"\"Index multiple documents to Solr.\"\"\"\n",
    "        try:\n",
    "            self.solr.add(documents)\n",
    "            print(f\"Successfully indexed {len(documents)} documents\")\n",
    "        except Exception as e:\n",
    "            print(f\"Error indexing documents: {str(e)}\")"
   ]
  },
  {
   "cell_type": "code",
   "execution_count": null,
   "id": "02c53abe-0f59-4eb6-95f1-784d3c809df2",
   "metadata": {},
   "outputs": [],
   "source": [
    "documents = [\n",
    "    {\"name\": \"Apple iPhone 13\", \"tags\": \"phone, smartphone, screen, iOS\", \"category\": \"phone\"},\n",
    "    {\"name\": \"Apple iPhone 14\", \"tags\": \"phone, smartphone, screen, iOS\", \"category\": \"phone\"},\n",
    "    {\"name\": \"Apple iPhone 15\", \"tags\": \"phone, smartphone, screen, iOS\", \"category\": \"phone\"},\n",
    "    {\"name\": \"Samsung Galaxy S24\", \"tags\": \"phone, smartphone, screen, Android\", \"category\": \"phone\"},\n",
    "    {\"name\": \"Apple iPod\", \"tags\": \"music, screen, iOS\", \"category\": \"music player\"},\n",
    "    {\"name\": \"Samsung Microwave\", \"tags\": \"kitchen, cooking, electric\", \"category\": \"household\"}\n",
    "]\n",
    "\n",
    "indexer = SolrIndexer()\n",
    "\n",
    "solr_documents = []\n",
    "for doc in documents:\n",
    "    solrdoc = indexer.create_document(doc['name'], doc['tags'], doc['category'])\n",
    "    solr_documents.append(solrdoc)\n",
    "    print(f\"Created document: {solrdoc['name']}\")\n",
    "    print(f\"Vector length: {len(solrdoc['vector'])}\")\n",
    "    \n",
    "indexer.index_documents(solr_documents)"
   ]
  },
  {
   "cell_type": "code",
   "execution_count": null,
   "id": "5f27fa56-a4c5-4aad-b389-4cd3f833e2f4",
   "metadata": {},
   "outputs": [],
   "source": [
    "embedder = DocumentEmbedder()\n",
    "embeddings = embedder.get_embedding(\"song player\")\n",
    "print(f\"Embeddings: {str(embeddings)}\")"
   ]
  }
 ],
 "metadata": {
  "kernelspec": {
   "display_name": "Python 3 (ipykernel)",
   "language": "python",
   "name": "python3"
  },
  "language_info": {
   "codemirror_mode": {
    "name": "ipython",
    "version": 3
   },
   "file_extension": ".py",
   "mimetype": "text/x-python",
   "name": "python",
   "nbconvert_exporter": "python",
   "pygments_lexer": "ipython3",
   "version": "3.10.16"
  }
 },
 "nbformat": 4,
 "nbformat_minor": 5
}
